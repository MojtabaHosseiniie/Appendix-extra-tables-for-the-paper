{
  "nbformat": 4,
  "nbformat_minor": 0,
  "metadata": {
    "colab": {
      "provenance": []
    },
    "kernelspec": {
      "name": "python3",
      "display_name": "Python 3"
    },
    "language_info": {
      "name": "python"
    }
  },
  "cells": [
    {
      "cell_type": "markdown",
      "source": [
        "**Section1- Results for the network prime training**\n"
      ],
      "metadata": {
        "id": "S5XpVn3Z7KAG"
      }
    },
    {
      "cell_type": "markdown",
      "source": [
        "\n",
        "The results for the network's primary training on the Georgia-tech dataset (using training and validation sets) are presented in Tables 1 and 2, corresponding to one-step and 50-step prediction, respectively."
      ],
      "metadata": {
        "id": "pqEajMAM-zf2"
      }
    },
    {
      "cell_type": "code",
      "source": [
        "import pandas as pd\n",
        "\n",
        "# Table 1: One-step prediction\n",
        "data1 = {\n",
        "    \"Scenario\": [\"SIC*\"],\n",
        "    \"Training NRMSE\": [0.036],\n",
        "    \"Validation NRMSE\": [0.041],\n",
        "    \"Training NMAE\": [0.0264],\n",
        "    \"Validation NMAE\": [0.0286],\n",
        "    \"Training R2\": [0.964],\n",
        "    \"Validation R2\": [0.960]\n",
        "}\n",
        "\n",
        "# Table 2: 50-step prediction\n",
        "data2 = {\n",
        "    \"Scenario\": [\"SIC*\"],\n",
        "    \"Training NRMSE\": [0.058],\n",
        "    \"Validation NRMSE\": [0.056],\n",
        "    \"Training NMAE\": [0.039],\n",
        "    \"Validation NMAE\": [0.037],\n",
        "    \"Training R2\": [0.921],\n",
        "    \"Validation R2\": [0.915]\n",
        "}\n",
        "\n",
        "df1 = pd.DataFrame(data1)\n",
        "df2 = pd.DataFrame(data2)\n",
        "\n",
        "print(\"📊 Table 1 - Prime training on Georgia-tech dataset (one-step prediction):\")\n",
        "print(df1.to_markdown(index=False))\n",
        "\n",
        "print(\"\\n📊 Table 2 - Prime training on Georgia-tech dataset (50-step prediction):\")\n",
        "print(df2.to_markdown(index=False))"
      ],
      "metadata": {
        "colab": {
          "base_uri": "https://localhost:8080/"
        },
        "id": "nzRYBJTw7MXQ",
        "outputId": "f085ec15-e405-43a4-a78c-86d3f3e3b153"
      },
      "execution_count": 1,
      "outputs": [
        {
          "output_type": "stream",
          "name": "stdout",
          "text": [
            "📊 Table 1 - Prime training on Georgia-tech dataset (one-step prediction):\n",
            "| Scenario   |   Training NRMSE |   Validation NRMSE |   Training NMAE |   Validation NMAE |   Training R2 |   Validation R2 |\n",
            "|:-----------|-----------------:|-------------------:|----------------:|------------------:|--------------:|----------------:|\n",
            "| SIC*       |            0.036 |              0.041 |          0.0264 |            0.0286 |         0.964 |            0.96 |\n",
            "\n",
            "📊 Table 2 - Prime training on Georgia-tech dataset (50-step prediction):\n",
            "| Scenario   |   Training NRMSE |   Validation NRMSE |   Training NMAE |   Validation NMAE |   Training R2 |   Validation R2 |\n",
            "|:-----------|-----------------:|-------------------:|----------------:|------------------:|--------------:|----------------:|\n",
            "| SIC*       |            0.058 |              0.056 |           0.039 |             0.037 |         0.921 |           0.915 |\n"
          ]
        }
      ]
    },
    {
      "cell_type": "markdown",
      "source": [
        "The results in Tables 1 and 2 demonstrate that the network's performance declines when a 50-step prediction horizon is considered. Notably, the results obtained using only EMG signals remain satisfactory. This can be attributed to the fact that the model is trained on a population dataset, exposing it to a substantial amount of training data. Furthermore, since the validation set consists of samples from the same subjects in the training set rather than new subjects, the network benefits from familiar data distributions."
      ],
      "metadata": {
        "id": "HxfFqMtN4CNq"
      }
    },
    {
      "cell_type": "markdown",
      "source": [
        ".................................."
      ],
      "metadata": {
        "id": "rpsrrtM6q9FA"
      }
    },
    {
      "cell_type": "markdown",
      "source": [
        "**Section2- Results for transferring the EMG network within Georgia-tech dataset**\n"
      ],
      "metadata": {
        "id": "9XA4o_UO7Rnn"
      }
    },
    {
      "cell_type": "markdown",
      "source": [
        "As mentioned in subsection 2-6-2, the pre-trained network in the SIC scenario is transferred to the DIC scenario. The results for this section are presented in Tables 3 and 4, corresponding to one-step and 50-step prediction, respectively.\n"
      ],
      "metadata": {
        "id": "MmvHf6Bz-6US"
      }
    },
    {
      "cell_type": "code",
      "source": [
        "import pandas as pd\n",
        "\n",
        "# Table 3\n",
        "data3 = {\n",
        "    \"Scenario\": [\"SIC*\"],\n",
        "    \"Training NRMSE\": [0.024],\n",
        "    \"Validation NRMSE\": [0.026],\n",
        "    \"Training NMAE\": [0.016],\n",
        "    \"Validation NMAE\": [0.017],\n",
        "    \"Training R2\": [0.984],\n",
        "    \"Validation R2\": [0.972]\n",
        "}\n",
        "df3 = pd.DataFrame(data3)\n",
        "\n",
        "# Table 4\n",
        "data4 = {\n",
        "    \"Scenario\": [\"DIC*\"],\n",
        "    \"Training NRMSE\": [0.033],\n",
        "    \"Validation NRMSE\": [0.036],\n",
        "    \"Training NMAE\": [0.048],\n",
        "    \"Validation NMAE\": [0.054],\n",
        "    \"Training R2\": [0.940],\n",
        "    \"Validation R2\": [0.931]\n",
        "}\n",
        "df4 = pd.DataFrame(data4)\n",
        "\n",
        "# Show both tables\n",
        "print(\"📊 Table 3 - Transferring the EMG Network within Georgia-tech dataset (one-step prediction):\")\n",
        "print(df3.to_markdown(index=False))\n",
        "\n",
        "print(\"\\n📊 Table 4 - Transferring the EMG Network within Georgia-tech dataset (50-step prediction):\")\n",
        "print(df4.to_markdown(index=False))"
      ],
      "metadata": {
        "colab": {
          "base_uri": "https://localhost:8080/"
        },
        "id": "65E1uDaf3-ok",
        "outputId": "d711237d-c0a9-4ce6-85b1-2cbd3e12bfbe"
      },
      "execution_count": 2,
      "outputs": [
        {
          "output_type": "stream",
          "name": "stdout",
          "text": [
            "📊 Table 3 - Transferring the EMG Network within Georgia-tech dataset (one-step prediction):\n",
            "| Scenario   |   Training NRMSE |   Validation NRMSE |   Training NMAE |   Validation NMAE |   Training R2 |   Validation R2 |\n",
            "|:-----------|-----------------:|-------------------:|----------------:|------------------:|--------------:|----------------:|\n",
            "| SIC*       |            0.024 |              0.026 |           0.016 |             0.017 |         0.984 |           0.972 |\n",
            "\n",
            "📊 Table 4 - Transferring the EMG Network within Georgia-tech dataset (50-step prediction):\n",
            "| Scenario   |   Training NRMSE |   Validation NRMSE |   Training NMAE |   Validation NMAE |   Training R2 |   Validation R2 |\n",
            "|:-----------|-----------------:|-------------------:|----------------:|------------------:|--------------:|----------------:|\n",
            "| DIC*       |            0.033 |              0.036 |           0.048 |             0.054 |          0.94 |           0.931 |\n"
          ]
        }
      ]
    },
    {
      "cell_type": "markdown",
      "source": [
        "Comparing the results in Tables 1 and 2 with those in Tables 3 and 4 reveals that incorporating kinematic data into the input improves the network's performance, but the difference is minor. It shows that if the network is trained well in SIC scenario, it can predict the angles of the subjects, from whom the network sees the data during the training process."
      ],
      "metadata": {
        "id": "yOGW5nUW5LN1"
      }
    },
    {
      "cell_type": "markdown",
      "source": [
        "............................"
      ],
      "metadata": {
        "id": "V4FL4brhq-mU"
      }
    },
    {
      "cell_type": "markdown",
      "source": [
        "**Section3- Results for transferring the network to the new subject from the Georgia-tech dataset**\n",
        "\n"
      ],
      "metadata": {
        "id": "38QFiUaE7VU6"
      }
    },
    {
      "cell_type": "markdown",
      "source": [
        "Transferring the network to a new subject in the Georgia-tech dataset is considered in both SIC and DIC scenarios, as described in subsection 2-6-2. The results for this section are presented in Table 5 and Table 6, corresponding to one-step and 50-step prediction, respectively."
      ],
      "metadata": {
        "id": "DTRo-eNu--EV"
      }
    },
    {
      "cell_type": "code",
      "source": [
        "import pandas as pd\n",
        "\n",
        "# Table 5\n",
        "data5 = {\n",
        "    \"Scenario\": [\"SIC*\", \"DIC*\"],\n",
        "    \"Fine-tune NRMSE\": [0.041, 0.025],\n",
        "    \"Evaluation NRMSE\": [0.053, 0.027],\n",
        "    \"Fine-tune NMAE\": [0.031, 0.019],\n",
        "    \"Evaluation NMAE\": [0.037, 0.020],\n",
        "    \"Fine-tune R2\": [0.953, 0.991],\n",
        "    \"Evaluation R2\": [0.973, 0.988]\n",
        "}\n",
        "df5 = pd.DataFrame(data5)\n",
        "\n",
        "# Table 6\n",
        "data6 = {\n",
        "    \"Scenario\": [\"SIC*\", \"DIC*\"],\n",
        "    \"Fine-tune NRMSE\": [0.054, 0.055],\n",
        "    \"Evaluation NRMSE\": [0.101, 0.070],\n",
        "    \"Fine-tune NMAE\": [0.070, 0.040],\n",
        "    \"Evaluation NMAE\": [0.145, 0.046],\n",
        "    \"Fine-tune R2\": [0.922, 0.951],\n",
        "    \"Evaluation R2\": [0.661, 0.924]\n",
        "}\n",
        "df6 = pd.DataFrame(data6)\n",
        "\n",
        "# Display both tables\n",
        "print(\"📊 Table 5 - Transferring the network to the new subject from the Georgia-tech dataset (one-step prediction):\")\n",
        "print(df5.to_markdown(index=False))\n",
        "\n",
        "print(\"\\n📊 Table 6 - Transferring the network to the new subject from the Georgia-tech dataset (50-step prediction):\")\n",
        "print(df6.to_markdown(index=False))"
      ],
      "metadata": {
        "colab": {
          "base_uri": "https://localhost:8080/"
        },
        "id": "l8bkWxW15Y82",
        "outputId": "78fa4098-0b1a-4728-932c-b386f17315a3"
      },
      "execution_count": 3,
      "outputs": [
        {
          "output_type": "stream",
          "name": "stdout",
          "text": [
            "📊 Table 5 - Transferring the network to the new subject from the Georgia-tech dataset (one-step prediction):\n",
            "| Scenario   |   Fine-tune NRMSE |   Evaluation NRMSE |   Fine-tune NMAE |   Evaluation NMAE |   Fine-tune R2 |   Evaluation R2 |\n",
            "|:-----------|------------------:|-------------------:|-----------------:|------------------:|---------------:|----------------:|\n",
            "| SIC*       |             0.041 |              0.053 |            0.031 |             0.037 |          0.953 |           0.973 |\n",
            "| DIC*       |             0.025 |              0.027 |            0.019 |             0.02  |          0.991 |           0.988 |\n",
            "\n",
            "📊 Table 6 - Transferring the network to the new subject from the Georgia-tech dataset (50-step prediction):\n",
            "| Scenario   |   Fine-tune NRMSE |   Evaluation NRMSE |   Fine-tune NMAE |   Evaluation NMAE |   Fine-tune R2 |   Evaluation R2 |\n",
            "|:-----------|------------------:|-------------------:|-----------------:|------------------:|---------------:|----------------:|\n",
            "| SIC*       |             0.054 |              0.101 |             0.07 |             0.145 |          0.922 |           0.661 |\n",
            "| DIC*       |             0.055 |              0.07  |             0.04 |             0.046 |          0.951 |           0.924 |\n"
          ]
        }
      ]
    },
    {
      "cell_type": "markdown",
      "source": [
        "Tables 5 and 6 show that the one-step prediction is acceptable for a new subject, even in the SIC scenario. However, the performance in the 50-step prediction is not satisfactory, indicating the limitations of the SIC scenario. In both Tables 5 and 6, the improvement in performance with the addition of kinematic data can be observed. This could be attributed to the increased complexity of long-term predictions, which require more network parameters and, consequently, more training data for effective fine-tuning. As observed in Tables 2 and 4, the results are significantly more reliable for populations with greater available training data, particularly when the network has seen data from the test subject during the training process."
      ],
      "metadata": {
        "id": "2i8gHj937GQi"
      }
    },
    {
      "cell_type": "markdown",
      "source": [
        "..................."
      ],
      "metadata": {
        "id": "KCE_zeu1rAO3"
      }
    },
    {
      "cell_type": "markdown",
      "source": [
        "Section 4- Results for transferring the network to the UCI dataset (first\n",
        "\n",
        "stage transfer-learning)\n"
      ],
      "metadata": {
        "id": "MshkFbul7a1Q"
      }
    },
    {
      "cell_type": "markdown",
      "source": [
        "The results for the first fine-tuning on 10 subjects are as Tables 7 and 8 accordingly for normal subjects related to 1 and 50-step predictions, then in Tables 9 and 10 for abnormal subjects related to 1 and 50-step prediction accordingly.\n"
      ],
      "metadata": {
        "id": "nfcAsRpM_BPJ"
      }
    },
    {
      "cell_type": "code",
      "source": [
        "import pandas as pd\n",
        "\n",
        "# Table 7\n",
        "data7 = {\n",
        "    \"Scenario\": [\"SIC*\", \"DIC*\"],\n",
        "    \"Training NRMSE\": [0.084, 0.033],\n",
        "    \"Validation NRMSE\": [0.100, 0.034],\n",
        "    \"Training NMAE\": [0.060, 0.030],\n",
        "    \"Validation NMAE\": [0.073, 0.030],\n",
        "    \"Training R2\": [0.910, 0.990],\n",
        "    \"Validation R2\": [0.900, 0.986]\n",
        "}\n",
        "df7 = pd.DataFrame(data7)\n",
        "\n",
        "# Table 8\n",
        "data8 = {\n",
        "    \"Scenario\": [\"SIC*\", \"DIC*\"],\n",
        "    \"Training NRMSE\": [0.059, 0.028],\n",
        "    \"Validation NRMSE\": [0.076, 0.053],\n",
        "    \"Training NMAE\": [0.058, 0.022],\n",
        "    \"Validation NMAE\": [0.045, 0.037],\n",
        "    \"Training R2\": [0.960, 0.990],\n",
        "    \"Validation R2\": [0.940, 0.970]\n",
        "}\n",
        "df8 = pd.DataFrame(data8)\n",
        "\n",
        "# Table 9\n",
        "data9 = {\n",
        "    \"Scenario\": [\"SIC*\", \"DIC*\"],\n",
        "    \"Training NRMSE\": [0.067, 0.028],\n",
        "    \"Validation NRMSE\": [0.108, 0.030],\n",
        "    \"Training NMAE\": [0.047, 0.026],\n",
        "    \"Validation NMAE\": [0.070, 0.028],\n",
        "    \"Training R2\": [0.930, 0.990],\n",
        "    \"Validation R2\": [0.810, 0.980]\n",
        "}\n",
        "df9 = pd.DataFrame(data9)\n",
        "\n",
        "# Table 10\n",
        "data10 = {\n",
        "    \"Scenario\": [\"SIC*\", \"DIC*\"],\n",
        "    \"Training NRMSE\": [0.069, 0.063],\n",
        "    \"Validation NRMSE\": [0.086, 0.083],\n",
        "    \"Training NMAE\": [0.048, 0.044],\n",
        "    \"Validation NMAE\": [0.059, 0.059],\n",
        "    \"Training R2\": [0.920, 0.932],\n",
        "    \"Validation R2\": [0.898, 0.912]\n",
        "}\n",
        "df10 = pd.DataFrame(data10)\n",
        "\n",
        "# Show all 4 tables\n",
        "print(\"📊 Table 7 - Transfer to UCI (normal, one-step):\")\n",
        "print(df7.to_markdown(index=False))\n",
        "\n",
        "print(\"\\n📊 Table 8 - Transfer to UCI (normal, 50-step):\")\n",
        "print(df8.to_markdown(index=False))\n",
        "\n",
        "print(\"\\n📊 Table 9 - Transfer to UCI (abnormal, one-step):\")\n",
        "print(df9.to_markdown(index=False))\n",
        "\n",
        "print(\"\\n📊 Table 10 - Transfer to UCI (abnormal, 50-step):\")\n",
        "print(df10.to_markdown(index=False))"
      ],
      "metadata": {
        "colab": {
          "base_uri": "https://localhost:8080/"
        },
        "id": "rRwExovH7hqK",
        "outputId": "87a3a0e0-edc4-4ecb-e9b9-fa8e3f0c840a"
      },
      "execution_count": 4,
      "outputs": [
        {
          "output_type": "stream",
          "name": "stdout",
          "text": [
            "📊 Table 7 - Transfer to UCI (normal, one-step):\n",
            "| Scenario   |   Training NRMSE |   Validation NRMSE |   Training NMAE |   Validation NMAE |   Training R2 |   Validation R2 |\n",
            "|:-----------|-----------------:|-------------------:|----------------:|------------------:|--------------:|----------------:|\n",
            "| SIC*       |            0.084 |              0.1   |            0.06 |             0.073 |          0.91 |           0.9   |\n",
            "| DIC*       |            0.033 |              0.034 |            0.03 |             0.03  |          0.99 |           0.986 |\n",
            "\n",
            "📊 Table 8 - Transfer to UCI (normal, 50-step):\n",
            "| Scenario   |   Training NRMSE |   Validation NRMSE |   Training NMAE |   Validation NMAE |   Training R2 |   Validation R2 |\n",
            "|:-----------|-----------------:|-------------------:|----------------:|------------------:|--------------:|----------------:|\n",
            "| SIC*       |            0.059 |              0.076 |           0.058 |             0.045 |          0.96 |            0.94 |\n",
            "| DIC*       |            0.028 |              0.053 |           0.022 |             0.037 |          0.99 |            0.97 |\n",
            "\n",
            "📊 Table 9 - Transfer to UCI (abnormal, one-step):\n",
            "| Scenario   |   Training NRMSE |   Validation NRMSE |   Training NMAE |   Validation NMAE |   Training R2 |   Validation R2 |\n",
            "|:-----------|-----------------:|-------------------:|----------------:|------------------:|--------------:|----------------:|\n",
            "| SIC*       |            0.067 |              0.108 |           0.047 |             0.07  |          0.93 |            0.81 |\n",
            "| DIC*       |            0.028 |              0.03  |           0.026 |             0.028 |          0.99 |            0.98 |\n",
            "\n",
            "📊 Table 10 - Transfer to UCI (abnormal, 50-step):\n",
            "| Scenario   |   Training NRMSE |   Validation NRMSE |   Training NMAE |   Validation NMAE |   Training R2 |   Validation R2 |\n",
            "|:-----------|-----------------:|-------------------:|----------------:|------------------:|--------------:|----------------:|\n",
            "| SIC*       |            0.069 |              0.086 |           0.048 |             0.059 |         0.92  |           0.898 |\n",
            "| DIC*       |            0.063 |              0.083 |           0.044 |             0.059 |         0.932 |           0.912 |\n"
          ]
        }
      ]
    },
    {
      "cell_type": "markdown",
      "source": [
        "As observed in Tables 7  and 8, the network demonstrates acceptable performance when fine-tuned on a new population. The results indicate slightly better performance for normal subjects, whereas 50-step prediction exhibits lower accuracy, suggesting increased difficulty in long-term forecasting."
      ],
      "metadata": {
        "id": "T94AmrKX7hzO"
      }
    },
    {
      "cell_type": "markdown",
      "source": [
        "......................."
      ],
      "metadata": {
        "id": "Mgv2Ef5orNKL"
      }
    },
    {
      "cell_type": "markdown",
      "source": [
        "**Section 5- Results for transferring the network to the UCI dataset (second\n",
        "\n",
        "stage transfer-learning)**"
      ],
      "metadata": {
        "id": "XRnXiusUpwrp"
      }
    },
    {
      "cell_type": "code",
      "source": [
        "import pandas as pd\n",
        "\n",
        "# Table 11\n",
        "data11 = {\n",
        "    \"Scenario\": [\"SIC*\", \"DIC**\"],\n",
        "    \"Fine-tune NRMSE\": [0.047, 0.033],\n",
        "    \"Evaluation NRMSE\": [0.100, 0.034],\n",
        "    \"Fine-tune NMAE\": [0.035, 0.030],\n",
        "    \"Evaluation NMAE\": [0.068, 0.031],\n",
        "    \"Fine-tune R2\": [0.975, 0.986],\n",
        "    \"Evaluation R2\": [0.864, 0.988]\n",
        "}\n",
        "df11 = pd.DataFrame(data11)\n",
        "\n",
        "# Table 12\n",
        "data12 = {\n",
        "    \"Scenario\": [\"SIC*\", \"DIC**\"],\n",
        "    \"Fine-tune NRMSE\": [0.130, 0.031],\n",
        "    \"Evaluation NRMSE\": [0.177, 0.044],\n",
        "    \"Fine-tune NMAE\": [0.108, 0.024],\n",
        "    \"Evaluation NMAE\": [0.137, 0.035],\n",
        "    \"Fine-tune R2\": [0.652, 0.978],\n",
        "    \"Evaluation R2\": [0.800, 0.988]\n",
        "}\n",
        "df12 = pd.DataFrame(data12)\n",
        "\n",
        "# Table 13\n",
        "data13 = {\n",
        "    \"Scenario\": [\"SIC*\", \"DIC**\"],\n",
        "    \"Fine-tune NRMSE\": [0.054, 0.028],\n",
        "    \"Evaluation NRMSE\": [0.103, 0.030],\n",
        "    \"Fine-tune NMAE\": [0.041, 0.025],\n",
        "    \"Evaluation NMAE\": [0.072, 0.028],\n",
        "    \"Fine-tune R2\": [0.957, 0.987],\n",
        "    \"Evaluation R2\": [0.813, 0.984]\n",
        "}\n",
        "df13 = pd.DataFrame(data13)\n",
        "\n",
        "# Table 14\n",
        "data14 = {\n",
        "    \"Scenario\": [\"SIC*\", \"DIC**\"],\n",
        "    \"Fine-tune NRMSE\": [0.140, 0.051],\n",
        "    \"Evaluation NRMSE\": [0.189, 0.113],\n",
        "    \"Fine-tune NMAE\": [0.111, 0.040],\n",
        "    \"Evaluation NMAE\": [0.156, 0.075],\n",
        "    \"Fine-tune R2\": [0.927, 0.956],\n",
        "    \"Evaluation R2\": [0.697, 0.801]\n",
        "}\n",
        "df14 = pd.DataFrame(data14)\n",
        "\n",
        "# Display all tables\n",
        "print(\"📊 Table 11 - Second network transfer to UCI dataset (normal subject, one-step prediction):\")\n",
        "print(df11.to_markdown(index=False))\n",
        "\n",
        "print(\"\\n📊 Table 12 - Second network transfer to UCI dataset (normal subject, 50-step prediction):\")\n",
        "print(df12.to_markdown(index=False))\n",
        "\n",
        "print(\"\\n📊 Table 13 - Second network transfer to UCI dataset (abnormal subject, one-step prediction):\")\n",
        "print(df13.to_markdown(index=False))\n",
        "\n",
        "print(\"\\n📊 Table 14 - Second network transfer to UCI dataset (abnormal subject, 50-step prediction):\")\n",
        "print(df14.to_markdown(index=False))\n"
      ],
      "metadata": {
        "colab": {
          "base_uri": "https://localhost:8080/"
        },
        "id": "IJ44exjCp6zA",
        "outputId": "31d4b249-a6cf-400e-a457-fa7c300d7a14"
      },
      "execution_count": 5,
      "outputs": [
        {
          "output_type": "stream",
          "name": "stdout",
          "text": [
            "📊 Table 11 - Second network transfer to UCI dataset (normal subject, one-step prediction):\n",
            "| Scenario   |   Fine-tune NRMSE |   Evaluation NRMSE |   Fine-tune NMAE |   Evaluation NMAE |   Fine-tune R2 |   Evaluation R2 |\n",
            "|:-----------|------------------:|-------------------:|-----------------:|------------------:|---------------:|----------------:|\n",
            "| SIC*       |             0.047 |              0.1   |            0.035 |             0.068 |          0.975 |           0.864 |\n",
            "| DIC**      |             0.033 |              0.034 |            0.03  |             0.031 |          0.986 |           0.988 |\n",
            "\n",
            "📊 Table 12 - Second network transfer to UCI dataset (normal subject, 50-step prediction):\n",
            "| Scenario   |   Fine-tune NRMSE |   Evaluation NRMSE |   Fine-tune NMAE |   Evaluation NMAE |   Fine-tune R2 |   Evaluation R2 |\n",
            "|:-----------|------------------:|-------------------:|-----------------:|------------------:|---------------:|----------------:|\n",
            "| SIC*       |             0.13  |              0.177 |            0.108 |             0.137 |          0.652 |           0.8   |\n",
            "| DIC**      |             0.031 |              0.044 |            0.024 |             0.035 |          0.978 |           0.988 |\n",
            "\n",
            "📊 Table 13 - Second network transfer to UCI dataset (abnormal subject, one-step prediction):\n",
            "| Scenario   |   Fine-tune NRMSE |   Evaluation NRMSE |   Fine-tune NMAE |   Evaluation NMAE |   Fine-tune R2 |   Evaluation R2 |\n",
            "|:-----------|------------------:|-------------------:|-----------------:|------------------:|---------------:|----------------:|\n",
            "| SIC*       |             0.054 |              0.103 |            0.041 |             0.072 |          0.957 |           0.813 |\n",
            "| DIC**      |             0.028 |              0.03  |            0.025 |             0.028 |          0.987 |           0.984 |\n",
            "\n",
            "📊 Table 14 - Second network transfer to UCI dataset (abnormal subject, 50-step prediction):\n",
            "| Scenario   |   Fine-tune NRMSE |   Evaluation NRMSE |   Fine-tune NMAE |   Evaluation NMAE |   Fine-tune R2 |   Evaluation R2 |\n",
            "|:-----------|------------------:|-------------------:|-----------------:|------------------:|---------------:|----------------:|\n",
            "| SIC*       |             0.14  |              0.189 |            0.111 |             0.156 |          0.927 |           0.697 |\n",
            "| DIC**      |             0.051 |              0.113 |            0.04  |             0.075 |          0.956 |           0.801 |\n"
          ]
        }
      ]
    },
    {
      "cell_type": "markdown",
      "source": [
        "...................."
      ],
      "metadata": {
        "id": "XXyOTjSDr2MW"
      }
    },
    {
      "cell_type": "markdown",
      "source": [
        "**Section 6- Replacing the new subject**"
      ],
      "metadata": {
        "id": "wE0nBnPQ7jNx"
      }
    },
    {
      "cell_type": "markdown",
      "source": [
        "In this section, the last subject (out of 11) was replaced with a different subject to evaluate whether the network's transfer learning performance remains consistent across different new subjects. This experiment assesses the robustness of the model, ensuring that its effectiveness is not highly sensitive to the specific new subject introduced during fine-tuning. All scenarios described in Section 2-6-3 were repeated, selecting a new subject from the 11 available subjects for both normal and abnormal cases. The training, validation, fine-tuning, and evaluation data were partitioned in the same manner as in Section 2-6-3. The results indicate that the NMAE on the new subject varied by no more than 0.2, demonstrating the robustness of the transfer learning model. Tables 15 and 16 present the results for one-step prediction on a new subject, in SIC scenario, for normal and abnormal cases, respectively, providing a representative example of the results."
      ],
      "metadata": {
        "id": "dGVnpRTE_EE-"
      }
    },
    {
      "cell_type": "code",
      "source": [
        "import pandas as pd\n",
        "\n",
        "# Table 15 - Replaced normal subject, one-step prediction\n",
        "data15 = {\n",
        "    \"Scenario\": [\"SIC*\"],\n",
        "    \"Fine-tune NRMSE\": [0.062],\n",
        "    \"Evaluation NRMSE\": [0.097],\n",
        "    \"Fine-tune NMAE\": [0.050],\n",
        "    \"Evaluation NMAE\": [0.079],\n",
        "    \"Fine-tune R2\": [0.949],\n",
        "    \"Evaluation R2\": [0.859]\n",
        "}\n",
        "df15 = pd.DataFrame(data15)\n",
        "\n",
        "# Table 16 - Replaced abnormal subject, one-step prediction\n",
        "data16 = {\n",
        "    \"Scenario\": [\"SIC*\"],\n",
        "    \"Fine-tune NRMSE\": [0.057],\n",
        "    \"Evaluation NRMSE\": [0.112],\n",
        "    \"Fine-tune NMAE\": [0.045],\n",
        "    \"Evaluation NMAE\": [0.071],\n",
        "    \"Fine-tune R2\": [0.936],\n",
        "    \"Evaluation R2\": [0.813]\n",
        "}\n",
        "df16 = pd.DataFrame(data16)\n",
        "\n",
        "# Show both tables\n",
        "print(\"📊 Table 15 - Second network transfer to UCI (replaced normal subject, one-step prediction):\")\n",
        "print(df15.to_markdown(index=False))\n",
        "\n",
        "print(\"\\n📊 Table 16 - Second network transfer to UCI (replaced abnormal subject, one-step prediction):\")\n",
        "print(df16.to_markdown(index=False))\n"
      ],
      "metadata": {
        "colab": {
          "base_uri": "https://localhost:8080/"
        },
        "id": "u78sMSoksLVx",
        "outputId": "415f28d3-9710-460c-a398-5fc0626677ff"
      },
      "execution_count": 6,
      "outputs": [
        {
          "output_type": "stream",
          "name": "stdout",
          "text": [
            "📊 Table 15 - Second network transfer to UCI (replaced normal subject, one-step prediction):\n",
            "| Scenario   |   Fine-tune NRMSE |   Evaluation NRMSE |   Fine-tune NMAE |   Evaluation NMAE |   Fine-tune R2 |   Evaluation R2 |\n",
            "|:-----------|------------------:|-------------------:|-----------------:|------------------:|---------------:|----------------:|\n",
            "| SIC*       |             0.062 |              0.097 |             0.05 |             0.079 |          0.949 |           0.859 |\n",
            "\n",
            "📊 Table 16 - Second network transfer to UCI (replaced abnormal subject, one-step prediction):\n",
            "| Scenario   |   Fine-tune NRMSE |   Evaluation NRMSE |   Fine-tune NMAE |   Evaluation NMAE |   Fine-tune R2 |   Evaluation R2 |\n",
            "|:-----------|------------------:|-------------------:|-----------------:|------------------:|---------------:|----------------:|\n",
            "| SIC*       |             0.057 |              0.112 |            0.045 |             0.071 |          0.936 |           0.813 |\n"
          ]
        }
      ]
    },
    {
      "cell_type": "markdown",
      "source": [
        "To minimize the number of tables in the paper, only the results for one-step prediction in the SIC scenario are presented. Tables 11 and 12 demonstrate the robustness of the transfer-learning model when applied to new subjects."
      ],
      "metadata": {
        "id": "CO_ypnBa7jcD"
      }
    },
    {
      "cell_type": "markdown",
      "source": [
        "...................."
      ],
      "metadata": {
        "id": "VjzEcTb6sPGM"
      }
    },
    {
      "cell_type": "markdown",
      "source": [
        "Section 7- Results for transferring the network to the SMLE dataset (first\n",
        "\n",
        "stage transfer-learning)"
      ],
      "metadata": {
        "id": "BT9XI6i2sW4t"
      }
    },
    {
      "cell_type": "code",
      "source": [
        "import pandas as pd\n",
        "\n",
        "# Table 17 - Transfer learning on SMLE (one-step prediction) [Corrected DIC & DIC + Forces order]\n",
        "data17 = {\n",
        "    \"Scenario\": [\"SIC\", \"SIC + Forces\", \"DIC\", \"DIC + Forces\"],\n",
        "    \"Training NRMSE\": [0.112976, 0.068059, 0.013290, 0.011246],\n",
        "    \"Validation NRMSE\": [0.175744, 0.117829, 0.016729, 0.011958],\n",
        "    \"Training NMAE\": [0.088721, 0.054533, 0.008729, 0.007748],\n",
        "    \"Validation NMAE\": [0.146473, 0.093664, 0.011859, 0.008515],\n",
        "    \"Training R2\": [0.592800, 0.852223, 0.994366, 0.995965],\n",
        "    \"Validation R2\": [0.297924, 0.684407, 0.993638, 0.996750]\n",
        "}\n",
        "df17 = pd.DataFrame(data17)\n",
        "\n",
        "# Table 18 - Transfer learning on SMLE (50-step prediction)\n",
        "data18 = {\n",
        "    \"Scenario\": [\"SIC\", \"SIC + Forces\", \"DIC\", \"DIC + Forces\"],\n",
        "    \"Training NRMSE\": [0.127931, 0.075009, 0.042393, 0.034602],\n",
        "    \"Validation NRMSE\": [0.175685, 0.142877, 0.080275, 0.051226],\n",
        "    \"Training NMAE\": [0.100032, 0.058711, 0.033643, 0.023996],\n",
        "    \"Validation NMAE\": [0.141766, 0.107091, 0.058070, 0.035346],\n",
        "    \"Training R2\": [0.479258, 0.820982, 0.942817, 0.961904],\n",
        "    \"Validation R2\": [0.359038, 0.576075, 0.866180, 0.945506]\n",
        "}\n",
        "df18 = pd.DataFrame(data18)\n",
        "\n",
        "# Show both tables\n",
        "print(\"📊 Table 17 - Transfer learning on SMLE dataset (one-step prediction) [Corrected]:\")\n",
        "print(df17.to_markdown(index=False))\n",
        "\n",
        "print(\"\\n📊 Table 18 - Transfer learning on SMLE dataset (50-step prediction):\")\n",
        "print(df18.to_markdown(index=False))\n"
      ],
      "metadata": {
        "colab": {
          "base_uri": "https://localhost:8080/"
        },
        "id": "-GR8T5_RYGp3",
        "outputId": "f3e10243-b8ed-47b5-f471-653dfe7fc8cb"
      },
      "execution_count": 11,
      "outputs": [
        {
          "output_type": "stream",
          "name": "stdout",
          "text": [
            "📊 Table 17 - Transfer learning on SMLE dataset (one-step prediction) [Corrected]:\n",
            "| Scenario     |   Training NRMSE |   Validation NRMSE |   Training NMAE |   Validation NMAE |   Training R2 |   Validation R2 |\n",
            "|:-------------|-----------------:|-------------------:|----------------:|------------------:|--------------:|----------------:|\n",
            "| SIC          |         0.112976 |           0.175744 |        0.088721 |          0.146473 |      0.5928   |        0.297924 |\n",
            "| SIC + Forces |         0.068059 |           0.117829 |        0.054533 |          0.093664 |      0.852223 |        0.684407 |\n",
            "| DIC          |         0.01329  |           0.016729 |        0.008729 |          0.011859 |      0.994366 |        0.993638 |\n",
            "| DIC + Forces |         0.011246 |           0.011958 |        0.007748 |          0.008515 |      0.995965 |        0.99675  |\n",
            "\n",
            "📊 Table 18 - Transfer learning on SMLE dataset (50-step prediction):\n",
            "| Scenario     |   Training NRMSE |   Validation NRMSE |   Training NMAE |   Validation NMAE |   Training R2 |   Validation R2 |\n",
            "|:-------------|-----------------:|-------------------:|----------------:|------------------:|--------------:|----------------:|\n",
            "| SIC          |         0.127931 |           0.175685 |        0.100032 |          0.141766 |      0.479258 |        0.359038 |\n",
            "| SIC + Forces |         0.075009 |           0.142877 |        0.058711 |          0.107091 |      0.820982 |        0.576075 |\n",
            "| DIC          |         0.042393 |           0.080275 |        0.033643 |          0.05807  |      0.942817 |        0.86618  |\n",
            "| DIC + Forces |         0.034602 |           0.051226 |        0.023996 |          0.035346 |      0.961904 |        0.945506 |\n"
          ]
        }
      ]
    },
    {
      "cell_type": "markdown",
      "source": [
        "the results for the first fine-tuning on 6 tests (out if 7 tests) are as Tables 17 and 18 accordingly  related to 1 and 50-step predictions, in 4 scenarios (SIC,SIC-forces, DIC and DIC forces)"
      ],
      "metadata": {
        "id": "1fZYBsLCV_cI"
      }
    },
    {
      "cell_type": "markdown",
      "source": [
        "As observed in the paper, the best performance for the new subject during the second-stage training was achieved under the DIC + Forces configuration. It can also be noted that the training RMSE in this scenario is lower than in other configurations. This behavior arises from the training protocol, in which the process was automatically paused if the validation error did not decrease for three to five consecutive epochs, thereby preventing overfitting"
      ],
      "metadata": {
        "id": "8rMn2JQcVARi"
      }
    },
    {
      "cell_type": "markdown",
      "source": [
        "...................."
      ],
      "metadata": {
        "id": "mmu4wb7NV7ZD"
      }
    },
    {
      "cell_type": "markdown",
      "source": [
        "Section 7- Results for transferring the network to the SMLE dataset (second\n",
        "\n",
        "stage transfer-learning)"
      ],
      "metadata": {
        "id": "0u7npfA1V8tg"
      }
    },
    {
      "cell_type": "code",
      "source": [
        "import pandas as pd\n",
        "\n",
        "# Table 19 - Transfer learning on SML dataset (one-step prediction)\n",
        "data19 = {\n",
        "    \"Scenario\": [\"SIC\", \"SIC + Forces\", \"DIC\", \"DIC + Forces\"],\n",
        "    \"Fine-tune NRMSE\": [0.064409, 0.053002, 0.015660, 0.011494],\n",
        "    \"Evaluation NRMSE\": [0.139240, 0.097578, 0.017116, 0.014175],\n",
        "    \"Fine-tune NMAE\": [0.049724, 0.041807, 0.012173, 0.009136],\n",
        "    \"Evaluation NMAE\": [0.110053, 0.075842, 0.012555, 0.010905],\n",
        "    \"Fine-tune R2\": [0.899305, 0.931814, 0.994048, 0.996794],\n",
        "    \"Evaluation R2\": [0.672848, 0.839335, 0.995057, 0.996610]\n",
        "}\n",
        "df19 = pd.DataFrame(data19)\n",
        "\n",
        "# Table 20 - Transfer learning on SML dataset (50-step prediction)\n",
        "data20 = {\n",
        "    \"Scenario\": [\"SIC\", \"SIC + Forces\", \"DIC\", \"DIC + Forces\"],\n",
        "    \"Fine-tune NRMSE\": [0.094319, 0.032509, 0.053435, 0.028120],\n",
        "    \"Evaluation NRMSE\": [0.141340, 0.097639, 0.063099, 0.046099],\n",
        "    \"Fine-tune NMAE\": [0.074240, 0.025883, 0.042294, 0.020792],\n",
        "    \"Evaluation NMAE\": [0.111156, 0.077038, 0.046759, 0.032100],\n",
        "    \"Fine-tune R2\": [0.786741, 0.974665, 0.931551, 0.981045],\n",
        "    \"Evaluation R2\": [0.667759, 0.841447, 0.933782, 0.964656]\n",
        "}\n",
        "df20 = pd.DataFrame(data20)\n",
        "\n",
        "# Show both tables\n",
        "print(\"📊 Table 19 - Transfer learning on SML dataset (one-step prediction):\")\n",
        "print(df19.to_markdown(index=False))\n",
        "\n",
        "print(\"\\n📊 Table 20 - Transfer learning on SML dataset (50-step prediction):\")\n",
        "print(df20.to_markdown(index=False))\n"
      ],
      "metadata": {
        "id": "ryrBtakMzAME",
        "colab": {
          "base_uri": "https://localhost:8080/"
        },
        "outputId": "a81b0463-bac6-478c-c0d0-2b62da6e1bea"
      },
      "execution_count": 10,
      "outputs": [
        {
          "output_type": "stream",
          "name": "stdout",
          "text": [
            "📊 Table 19 - Transfer learning on SML dataset (one-step prediction):\n",
            "| Scenario     |   Fine-tune NRMSE |   Evaluation NRMSE |   Fine-tune NMAE |   Evaluation NMAE |   Fine-tune R2 |   Evaluation R2 |\n",
            "|:-------------|------------------:|-------------------:|-----------------:|------------------:|---------------:|----------------:|\n",
            "| SIC          |          0.064409 |           0.13924  |         0.049724 |          0.110053 |       0.899305 |        0.672848 |\n",
            "| SIC + Forces |          0.053002 |           0.097578 |         0.041807 |          0.075842 |       0.931814 |        0.839335 |\n",
            "| DIC          |          0.01566  |           0.017116 |         0.012173 |          0.012555 |       0.994048 |        0.995057 |\n",
            "| DIC + Forces |          0.011494 |           0.014175 |         0.009136 |          0.010905 |       0.996794 |        0.99661  |\n",
            "\n",
            "📊 Table 20 - Transfer learning on SML dataset (50-step prediction):\n",
            "| Scenario     |   Fine-tune NRMSE |   Evaluation NRMSE |   Fine-tune NMAE |   Evaluation NMAE |   Fine-tune R2 |   Evaluation R2 |\n",
            "|:-------------|------------------:|-------------------:|-----------------:|------------------:|---------------:|----------------:|\n",
            "| SIC          |          0.094319 |           0.14134  |         0.07424  |          0.111156 |       0.786741 |        0.667759 |\n",
            "| SIC + Forces |          0.032509 |           0.097639 |         0.025883 |          0.077038 |       0.974665 |        0.841447 |\n",
            "| DIC          |          0.053435 |           0.063099 |         0.042294 |          0.046759 |       0.931551 |        0.933782 |\n",
            "| DIC + Forces |          0.02812  |           0.046099 |         0.020792 |          0.0321   |       0.981045 |        0.964656 |\n"
          ]
        }
      ]
    },
    {
      "cell_type": "markdown",
      "source": [
        "The analysis of the tables 19 and 20 is comprehensively discussed in the main body of the paper"
      ],
      "metadata": {
        "id": "yjIdqWZMYaQk"
      }
    }
  ]
}